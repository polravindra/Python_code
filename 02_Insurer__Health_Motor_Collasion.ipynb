{
 "cells": [
  {
   "cell_type": "code",
   "execution_count": null,
   "id": "49b04b92",
   "metadata": {
    "ExecuteTime": {
     "end_time": "2022-09-28T04:06:58.877573Z",
     "start_time": "2022-09-28T04:06:58.118798Z"
    },
    "execution": {
     "iopub.execute_input": "2022-09-24T04:15:40.943372Z",
     "iopub.status.busy": "2022-09-24T04:15:40.943372Z",
     "iopub.status.idle": "2022-09-24T04:15:42.058760Z",
     "shell.execute_reply": "2022-09-24T04:15:42.058300Z",
     "shell.execute_reply.started": "2022-09-24T04:15:40.943372Z"
    }
   },
   "outputs": [],
   "source": [
    "import numpy as np\n",
    "import pandas as pd\n",
    "\n",
    "import glob\n",
    "\n",
    "import os\n",
    "import datetime\n",
    "\n",
    "#from datetime import datetime as dt\n",
    "\n",
    "from datetime import datetime, timedelta"
   ]
  },
  {
   "cell_type": "code",
   "execution_count": null,
   "id": "6fa5d611",
   "metadata": {
    "ExecuteTime": {
     "end_time": "2022-09-28T04:06:58.892533Z",
     "start_time": "2022-09-28T04:06:58.879690Z"
    },
    "execution": {
     "iopub.execute_input": "2022-09-24T04:15:42.060314Z",
     "iopub.status.busy": "2022-09-24T04:15:42.060314Z",
     "iopub.status.idle": "2022-09-24T04:15:42.073257Z",
     "shell.execute_reply": "2022-09-24T04:15:42.073257Z",
     "shell.execute_reply.started": "2022-09-24T04:15:42.060314Z"
    }
   },
   "outputs": [],
   "source": [
    "pd.set_option('display.max_columns',None)"
   ]
  },
  {
   "cell_type": "markdown",
   "id": "51e234e6",
   "metadata": {},
   "source": [
    "# HDFC"
   ]
  },
  {
   "cell_type": "code",
   "execution_count": null,
   "id": "398a7388",
   "metadata": {
    "ExecuteTime": {
     "end_time": "2022-09-28T04:07:42.336977Z",
     "start_time": "2022-09-28T04:07:42.324203Z"
    },
    "execution": {
     "iopub.execute_input": "2022-09-24T04:16:40.130530Z",
     "iopub.status.busy": "2022-09-24T04:16:40.129528Z",
     "iopub.status.idle": "2022-09-24T04:16:40.143492Z",
     "shell.execute_reply": "2022-09-24T04:16:40.142303Z",
     "shell.execute_reply.started": "2022-09-24T04:16:40.130530Z"
    },
    "scrolled": true
   },
   "outputs": [],
   "source": [
    "HDFC = glob.glob('*PolicyDump*.xlsx', recursive=True)\n",
    "HDFC"
   ]
  },
  {
   "cell_type": "code",
   "execution_count": null,
   "id": "cbd00778",
   "metadata": {
    "ExecuteTime": {
     "end_time": "2022-09-28T04:08:12.915546Z",
     "start_time": "2022-09-28T04:07:42.338870Z"
    },
    "execution": {
     "iopub.execute_input": "2022-09-24T04:16:40.145510Z",
     "iopub.status.busy": "2022-09-24T04:16:40.145510Z",
     "iopub.status.idle": "2022-09-24T04:17:30.451416Z",
     "shell.execute_reply": "2022-09-24T04:17:30.450724Z",
     "shell.execute_reply.started": "2022-09-24T04:16:40.145510Z"
    }
   },
   "outputs": [],
   "source": [
    "HDFC_Dataframe = pd.DataFrame()\n",
    "\n",
    "\n",
    "for i in HDFC:\n",
    "    Dataframe = pd.read_excel(i,dtype={(\"Previous Policy No\",\"Policy No\"):str}) #,parse_dates=['Pol Issue Date'])\n",
    "    \n",
    "    HDFC_Dataframe = pd.concat([HDFC_Dataframe,Dataframe], ignore_index=True)\n",
    "    \n",
    "HDFC_Dataframe.head()"
   ]
  },
  {
   "cell_type": "code",
   "execution_count": null,
   "id": "ad4efbf4",
   "metadata": {
    "ExecuteTime": {
     "end_time": "2022-09-28T04:08:12.977739Z",
     "start_time": "2022-09-28T04:08:12.917509Z"
    },
    "execution": {
     "iopub.execute_input": "2022-09-24T04:17:30.454412Z",
     "iopub.status.busy": "2022-09-24T04:17:30.453412Z",
     "iopub.status.idle": "2022-09-24T04:17:30.544452Z",
     "shell.execute_reply": "2022-09-24T04:17:30.543456Z",
     "shell.execute_reply.started": "2022-09-24T04:17:30.454412Z"
    }
   },
   "outputs": [],
   "source": [
    "HDFC_Dataframe['Pol Issue Date'] = pd.to_datetime(HDFC_Dataframe['Pol Issue Date'], errors='coerce')#,infer_datetime_format=True)\n",
    "HDFC_Dataframe['Pol Issue Date']"
   ]
  },
  {
   "cell_type": "code",
   "execution_count": null,
   "id": "de49dfd7",
   "metadata": {
    "ExecuteTime": {
     "end_time": "2022-09-28T04:08:12.992698Z",
     "start_time": "2022-09-28T04:08:12.979732Z"
    },
    "execution": {
     "iopub.execute_input": "2022-09-24T04:17:30.547445Z",
     "iopub.status.busy": "2022-09-24T04:17:30.546448Z",
     "iopub.status.idle": "2022-09-24T04:17:30.559411Z",
     "shell.execute_reply": "2022-09-24T04:17:30.558414Z",
     "shell.execute_reply.started": "2022-09-24T04:17:30.547445Z"
    }
   },
   "outputs": [],
   "source": [
    "HDFC_Dataframe.shape"
   ]
  },
  {
   "cell_type": "markdown",
   "id": "c4be7418",
   "metadata": {},
   "source": [
    "### * Condition"
   ]
  },
  {
   "cell_type": "code",
   "execution_count": null,
   "id": "56386200",
   "metadata": {
    "ExecuteTime": {
     "end_time": "2022-09-28T04:08:13.070521Z",
     "start_time": "2022-09-28T04:08:12.994693Z"
    },
    "execution": {
     "iopub.execute_input": "2022-09-24T04:17:30.563288Z",
     "iopub.status.busy": "2022-09-24T04:17:30.562404Z",
     "iopub.status.idle": "2022-09-24T04:17:30.653042Z",
     "shell.execute_reply": "2022-09-24T04:17:30.652045Z",
     "shell.execute_reply.started": "2022-09-24T04:17:30.563288Z"
    },
    "scrolled": true
   },
   "outputs": [],
   "source": [
    "HDFC_Final = HDFC_Dataframe[[\"Previous Policy No\",\"Policy No\",\"Our Share GWP\",\"Pol Issue Date\",\"Customer Name\",\n",
    "                                   \"Business Type\",\"Branch Name\",\"Product Name\",\"POL_MOT_VEH_REGISTRATION_NUM\",\n",
    "                            \"POL_MOT_MODEL_NAME\",\"ENGINE NUM\",\"CHASSIS NUM\"]].copy()\n",
    "HDFC_Final"
   ]
  },
  {
   "cell_type": "code",
   "execution_count": null,
   "id": "22cc891d",
   "metadata": {
    "ExecuteTime": {
     "end_time": "2022-09-28T04:08:13.117364Z",
     "start_time": "2022-09-28T04:08:13.073487Z"
    },
    "execution": {
     "iopub.execute_input": "2022-09-24T04:17:30.656034Z",
     "iopub.status.busy": "2022-09-24T04:17:30.655037Z",
     "iopub.status.idle": "2022-09-24T04:17:30.715865Z",
     "shell.execute_reply": "2022-09-24T04:17:30.714868Z",
     "shell.execute_reply.started": "2022-09-24T04:17:30.656034Z"
    },
    "scrolled": true
   },
   "outputs": [],
   "source": [
    "# Add Insurer\n",
    "\n",
    "HDFC_Final.insert(4,\"Insurer\",'HDFC Ergo')\n",
    "HDFC_Final.insert(10,\"Make\",'')\n",
    "\n",
    "\n",
    "HDFC_Final"
   ]
  },
  {
   "cell_type": "code",
   "execution_count": null,
   "id": "e1184277",
   "metadata": {
    "ExecuteTime": {
     "end_time": "2022-09-28T04:08:13.132648Z",
     "start_time": "2022-09-28T04:08:13.119359Z"
    },
    "execution": {
     "iopub.execute_input": "2022-09-24T04:17:30.716862Z",
     "iopub.status.busy": "2022-09-24T04:17:30.716862Z",
     "iopub.status.idle": "2022-09-24T04:17:30.731833Z",
     "shell.execute_reply": "2022-09-24T04:17:30.730890Z",
     "shell.execute_reply.started": "2022-09-24T04:17:30.716862Z"
    }
   },
   "outputs": [],
   "source": [
    "HDFC_Final.shape"
   ]
  },
  {
   "cell_type": "markdown",
   "id": "2749d836",
   "metadata": {},
   "source": [
    "# Royal"
   ]
  },
  {
   "cell_type": "code",
   "execution_count": null,
   "id": "33773685",
   "metadata": {
    "ExecuteTime": {
     "end_time": "2022-09-28T04:08:13.148607Z",
     "start_time": "2022-09-28T04:08:13.133646Z"
    },
    "execution": {
     "iopub.execute_input": "2022-09-24T04:17:30.733162Z",
     "iopub.status.busy": "2022-09-24T04:17:30.733162Z",
     "iopub.status.idle": "2022-09-24T04:17:30.746779Z",
     "shell.execute_reply": "2022-09-24T04:17:30.745781Z",
     "shell.execute_reply.started": "2022-09-24T04:17:30.733162Z"
    }
   },
   "outputs": [],
   "source": [
    "Royal = glob.glob('*Invictus_TeamRoom*.xlsx', recursive=True)\n",
    "Royal"
   ]
  },
  {
   "cell_type": "code",
   "execution_count": null,
   "id": "b13dd234",
   "metadata": {
    "ExecuteTime": {
     "end_time": "2022-09-28T04:08:49.115920Z",
     "start_time": "2022-09-28T04:08:13.150602Z"
    },
    "execution": {
     "iopub.execute_input": "2022-09-24T04:17:30.748773Z",
     "iopub.status.busy": "2022-09-24T04:17:30.748286Z",
     "iopub.status.idle": "2022-09-24T04:18:17.618955Z",
     "shell.execute_reply": "2022-09-24T04:18:17.617454Z",
     "shell.execute_reply.started": "2022-09-24T04:17:30.748773Z"
    }
   },
   "outputs": [],
   "source": [
    "Royal_Dataframe = pd.DataFrame()\n",
    "\n",
    "\n",
    "for i in Royal:\n",
    "    Dataframe = pd.read_excel(i,dtype={(\"Previous Policy No\",\"Policy No\"):str}) #,parse_dates=['Entry Date'])\n",
    "    \n",
    "    Royal_Dataframe = pd.concat([Royal_Dataframe,Dataframe], ignore_index=True)\n",
    "\n",
    "Royal_Dataframe.head()"
   ]
  },
  {
   "cell_type": "code",
   "execution_count": null,
   "id": "ca4ca899",
   "metadata": {
    "ExecuteTime": {
     "end_time": "2022-09-28T04:08:49.161385Z",
     "start_time": "2022-09-28T04:08:49.119911Z"
    },
    "execution": {
     "iopub.execute_input": "2022-09-24T04:18:17.621630Z",
     "iopub.status.busy": "2022-09-24T04:18:17.620950Z",
     "iopub.status.idle": "2022-09-24T04:18:17.678786Z",
     "shell.execute_reply": "2022-09-24T04:18:17.678786Z",
     "shell.execute_reply.started": "2022-09-24T04:18:17.621630Z"
    }
   },
   "outputs": [],
   "source": [
    "Royal_Dataframe['Entry Date'] = pd.to_datetime(Royal_Dataframe['Entry Date'], errors='coerce')#,infer_datetime_format=True)\n",
    "Royal_Dataframe['Entry Date']"
   ]
  },
  {
   "cell_type": "code",
   "execution_count": null,
   "id": "7889f055",
   "metadata": {
    "ExecuteTime": {
     "end_time": "2022-09-28T04:08:49.176593Z",
     "start_time": "2022-09-28T04:08:49.164000Z"
    },
    "execution": {
     "iopub.execute_input": "2022-09-24T04:18:17.680893Z",
     "iopub.status.busy": "2022-09-24T04:18:17.679793Z",
     "iopub.status.idle": "2022-09-24T04:18:17.693746Z",
     "shell.execute_reply": "2022-09-24T04:18:17.693746Z",
     "shell.execute_reply.started": "2022-09-24T04:18:17.680893Z"
    }
   },
   "outputs": [],
   "source": [
    "Royal_Dataframe.shape"
   ]
  },
  {
   "cell_type": "markdown",
   "id": "e73e46a0",
   "metadata": {},
   "source": [
    "### * Condition"
   ]
  },
  {
   "cell_type": "code",
   "execution_count": null,
   "id": "168d87b0",
   "metadata": {
    "ExecuteTime": {
     "end_time": "2022-09-28T04:08:49.302540Z",
     "start_time": "2022-09-28T04:08:49.178751Z"
    },
    "execution": {
     "iopub.execute_input": "2022-09-24T04:18:17.695740Z",
     "iopub.status.busy": "2022-09-24T04:18:17.695740Z",
     "iopub.status.idle": "2022-09-24T04:18:17.803947Z",
     "shell.execute_reply": "2022-09-24T04:18:17.802951Z",
     "shell.execute_reply.started": "2022-09-24T04:18:17.695740Z"
    }
   },
   "outputs": [],
   "source": [
    "# (Royal_Dataframe['Business Type'] == 'Renewal') &\n",
    "\n",
    "Royal_Condition = Royal_Dataframe[ Royal_Dataframe['Product'] == 'Individual Health']\n",
    "Royal_Condition"
   ]
  },
  {
   "cell_type": "code",
   "execution_count": null,
   "id": "a0103869",
   "metadata": {
    "ExecuteTime": {
     "end_time": "2022-09-28T04:08:49.334163Z",
     "start_time": "2022-09-28T04:08:49.304477Z"
    },
    "execution": {
     "iopub.execute_input": "2022-09-24T04:18:17.804944Z",
     "iopub.status.busy": "2022-09-24T04:18:17.804944Z",
     "iopub.status.idle": "2022-09-24T04:18:17.834348Z",
     "shell.execute_reply": "2022-09-24T04:18:17.833592Z",
     "shell.execute_reply.started": "2022-09-24T04:18:17.804944Z"
    }
   },
   "outputs": [],
   "source": [
    "Royal_Health_Final = Royal_Condition[[\"Policy No\",\"Our Share of Premium\",\"Entry Date\",\"Client Full Name\",\n",
    "                                      \"Business Type\",\"Branch Name\",\"Product\"]].copy()\n",
    "Royal_Health_Final"
   ]
  },
  {
   "cell_type": "code",
   "execution_count": null,
   "id": "58e2b7cc",
   "metadata": {
    "ExecuteTime": {
     "end_time": "2022-09-28T04:08:49.380274Z",
     "start_time": "2022-09-28T04:08:49.336390Z"
    },
    "execution": {
     "iopub.execute_input": "2022-09-24T04:18:17.836338Z",
     "iopub.status.busy": "2022-09-24T04:18:17.836338Z",
     "iopub.status.idle": "2022-09-24T04:18:17.880216Z",
     "shell.execute_reply": "2022-09-24T04:18:17.880216Z",
     "shell.execute_reply.started": "2022-09-24T04:18:17.836338Z"
    },
    "scrolled": true
   },
   "outputs": [],
   "source": [
    "# Add Insurer\n",
    "\n",
    "Royal_Health_Final.insert(0,\"old_policy_no.\",'')\n",
    "Royal_Health_Final.insert(4,\"Insurer\",'Royal Sundaram')\n",
    "Royal_Health_Final.insert(9,\"Registration no#\",'')\n",
    "\n",
    "Royal_Health_Final.insert(10,\"Make\",'')\n",
    "Royal_Health_Final.insert(11,\"Model\",'')\n",
    "Royal_Health_Final.insert(12,\"Engine No.\",'')\n",
    "Royal_Health_Final.insert(13,\"Chassis No.\",'')\n",
    "\n",
    "\n",
    "Royal_Health_Final"
   ]
  },
  {
   "cell_type": "code",
   "execution_count": null,
   "id": "c576e8ea",
   "metadata": {
    "ExecuteTime": {
     "end_time": "2022-09-28T04:08:49.396232Z",
     "start_time": "2022-09-28T04:08:49.382268Z"
    },
    "execution": {
     "iopub.execute_input": "2022-09-24T04:18:17.882210Z",
     "iopub.status.busy": "2022-09-24T04:18:17.881663Z",
     "iopub.status.idle": "2022-09-24T04:18:17.895172Z",
     "shell.execute_reply": "2022-09-24T04:18:17.895172Z",
     "shell.execute_reply.started": "2022-09-24T04:18:17.882210Z"
    }
   },
   "outputs": [],
   "source": [
    "Royal_Health_Final.shape"
   ]
  },
  {
   "cell_type": "markdown",
   "id": "03a19ce4",
   "metadata": {},
   "source": [
    "# Combine    \"All_Insurer\""
   ]
  },
  {
   "cell_type": "code",
   "execution_count": null,
   "id": "f49f4b2e",
   "metadata": {
    "ExecuteTime": {
     "end_time": "2022-09-28T04:11:21.604692Z",
     "start_time": "2022-09-28T04:11:20.898731Z"
    },
    "execution": {
     "iopub.execute_input": "2022-09-24T04:21:15.694680Z",
     "iopub.status.busy": "2022-09-24T04:21:15.694286Z",
     "iopub.status.idle": "2022-09-24T04:21:16.564549Z",
     "shell.execute_reply": "2022-09-24T04:21:16.563551Z",
     "shell.execute_reply.started": "2022-09-24T04:21:15.694680Z"
    }
   },
   "outputs": [],
   "source": [
    "# Star_Final\n",
    "\n",
    "All_Insurer = np.vstack((HDFC_Final, Royal_Health_Final))\n",
    "                         \n",
    "All_Insurer"
   ]
  },
  {
   "cell_type": "code",
   "execution_count": null,
   "id": "369ec7a7",
   "metadata": {
    "ExecuteTime": {
     "end_time": "2022-09-28T04:11:21.857104Z",
     "start_time": "2022-09-28T04:11:21.606687Z"
    },
    "execution": {
     "iopub.execute_input": "2022-09-24T04:21:16.567538Z",
     "iopub.status.busy": "2022-09-24T04:21:16.567538Z",
     "iopub.status.idle": "2022-09-24T04:21:16.913303Z",
     "shell.execute_reply": "2022-09-24T04:21:16.912284Z",
     "shell.execute_reply.started": "2022-09-24T04:21:16.567538Z"
    }
   },
   "outputs": [],
   "source": [
    "All_Insurer_Portal = pd.DataFrame(All_Insurer,columns=[\"Old Policy No.\",\"Policy No.\",\"Net Premium\",\"Booking/Issued Date\",\n",
    "                                                       \"Insurer\",\"Customer Name\",\"Business Type\",\"Location\",\"Product\",\n",
    "                                                       \"Registration_no.\",\"Make\",\"Model\",\"Engine No.\",\"Chassis No.\"])\n",
    "All_Insurer_Portal"
   ]
  },
  {
   "cell_type": "code",
   "execution_count": null,
   "id": "f6afab6f",
   "metadata": {
    "ExecuteTime": {
     "end_time": "2022-09-28T04:11:21.983827Z",
     "start_time": "2022-09-28T04:11:21.860099Z"
    },
    "execution": {
     "iopub.execute_input": "2022-09-24T04:21:16.915275Z",
     "iopub.status.busy": "2022-09-24T04:21:16.914300Z",
     "iopub.status.idle": "2022-09-24T04:21:17.088787Z",
     "shell.execute_reply": "2022-09-24T04:21:17.087789Z",
     "shell.execute_reply.started": "2022-09-24T04:21:16.915275Z"
    },
    "scrolled": true
   },
   "outputs": [],
   "source": [
    "All_Insurer_Portal['Net Premium'] = pd.to_numeric(All_Insurer_Portal['Net Premium'], errors='coerce')#,infer_datetime_format=True)\n",
    "All_Insurer_Portal['Net Premium']"
   ]
  },
  {
   "cell_type": "code",
   "execution_count": null,
   "id": "e9afe2e9",
   "metadata": {
    "ExecuteTime": {
     "end_time": "2022-09-28T04:11:21.998720Z",
     "start_time": "2022-09-28T04:11:21.986728Z"
    },
    "execution": {
     "iopub.execute_input": "2022-09-24T04:21:17.090861Z",
     "iopub.status.busy": "2022-09-24T04:21:17.090861Z",
     "iopub.status.idle": "2022-09-24T04:21:17.104745Z",
     "shell.execute_reply": "2022-09-24T04:21:17.103910Z",
     "shell.execute_reply.started": "2022-09-24T04:21:17.090861Z"
    }
   },
   "outputs": [],
   "source": [
    "#All_Insurer_Portal.to_csv('Net_Premium_Sum.csv',index=True)"
   ]
  },
  {
   "cell_type": "code",
   "execution_count": null,
   "id": "fe81fb3b",
   "metadata": {
    "ExecuteTime": {
     "end_time": "2022-09-28T04:11:22.738739Z",
     "start_time": "2022-09-28T04:11:22.000712Z"
    },
    "execution": {
     "iopub.execute_input": "2022-09-24T04:21:17.106738Z",
     "iopub.status.busy": "2022-09-24T04:21:17.105741Z",
     "iopub.status.idle": "2022-09-24T04:21:18.304831Z",
     "shell.execute_reply": "2022-09-24T04:21:18.303789Z",
     "shell.execute_reply.started": "2022-09-24T04:21:17.106738Z"
    }
   },
   "outputs": [],
   "source": [
    "All_Insurer_Portal.info()"
   ]
  },
  {
   "cell_type": "markdown",
   "id": "c7383fa0",
   "metadata": {},
   "source": [
    "### before manimulating dataframe \n",
    "<Center> Net_Premium_Sum"
   ]
  },
  {
   "cell_type": "code",
   "execution_count": null,
   "id": "ffd59c8f",
   "metadata": {
    "ExecuteTime": {
     "end_time": "2022-09-28T04:11:22.784519Z",
     "start_time": "2022-09-28T04:11:22.740636Z"
    },
    "execution": {
     "iopub.execute_input": "2022-09-24T04:21:18.306823Z",
     "iopub.status.busy": "2022-09-24T04:21:18.306823Z",
     "iopub.status.idle": "2022-09-24T04:21:18.383600Z",
     "shell.execute_reply": "2022-09-24T04:21:18.382618Z",
     "shell.execute_reply.started": "2022-09-24T04:21:18.306823Z"
    }
   },
   "outputs": [],
   "source": [
    "Net_Premium_Sum = All_Insurer_Portal.groupby('Insurer').agg({'Net Premium': 'sum'})\n",
    "Net_Premium_Sum"
   ]
  },
  {
   "cell_type": "code",
   "execution_count": null,
   "id": "aa2062f3",
   "metadata": {
    "ExecuteTime": {
     "end_time": "2022-09-28T04:11:22.799685Z",
     "start_time": "2022-09-28T04:11:22.786513Z"
    },
    "execution": {
     "iopub.execute_input": "2022-09-24T04:21:18.386599Z",
     "iopub.status.busy": "2022-09-24T04:21:18.386599Z",
     "iopub.status.idle": "2022-09-24T04:21:18.399520Z",
     "shell.execute_reply": "2022-09-24T04:21:18.398277Z",
     "shell.execute_reply.started": "2022-09-24T04:21:18.386599Z"
    },
    "scrolled": true
   },
   "outputs": [],
   "source": [
    "#All_Insurer_Portal.apply(lambda x: x.duplicated().sum())"
   ]
  },
  {
   "cell_type": "code",
   "execution_count": null,
   "id": "ef0235a5",
   "metadata": {
    "ExecuteTime": {
     "end_time": "2022-09-28T04:11:22.815323Z",
     "start_time": "2022-09-28T04:11:22.801474Z"
    },
    "execution": {
     "iopub.execute_input": "2022-09-24T04:21:18.402511Z",
     "iopub.status.busy": "2022-09-24T04:21:18.402511Z",
     "iopub.status.idle": "2022-09-24T04:21:18.415498Z",
     "shell.execute_reply": "2022-09-24T04:21:18.413519Z",
     "shell.execute_reply.started": "2022-09-24T04:21:18.402511Z"
    }
   },
   "outputs": [],
   "source": [
    "#Net_Premium_Sum.to_excel('Net_Premium_Sum.xlsx',index=True)"
   ]
  },
  {
   "cell_type": "code",
   "execution_count": null,
   "id": "1c353503",
   "metadata": {
    "ExecuteTime": {
     "end_time": "2022-09-28T04:11:22.847328Z",
     "start_time": "2022-09-28T04:11:22.816244Z"
    },
    "execution": {
     "iopub.execute_input": "2022-09-24T04:21:18.418463Z",
     "iopub.status.busy": "2022-09-24T04:21:18.417467Z",
     "iopub.status.idle": "2022-09-24T04:21:18.461342Z",
     "shell.execute_reply": "2022-09-24T04:21:18.460345Z",
     "shell.execute_reply.started": "2022-09-24T04:21:18.418463Z"
    }
   },
   "outputs": [],
   "source": [
    "All_Insurer_Portal['Insurer'].value_counts().count()"
   ]
  },
  {
   "cell_type": "code",
   "execution_count": null,
   "id": "b7119da9",
   "metadata": {
    "ExecuteTime": {
     "end_time": "2022-09-28T04:11:22.879098Z",
     "start_time": "2022-09-28T04:11:22.849408Z"
    },
    "execution": {
     "iopub.execute_input": "2022-09-24T04:21:18.464335Z",
     "iopub.status.busy": "2022-09-24T04:21:18.463337Z",
     "iopub.status.idle": "2022-09-24T04:21:18.523169Z",
     "shell.execute_reply": "2022-09-24T04:21:18.522176Z",
     "shell.execute_reply.started": "2022-09-24T04:21:18.464335Z"
    },
    "scrolled": true
   },
   "outputs": [],
   "source": [
    "All_Insurer_Portal.Insurer.value_counts()"
   ]
  },
  {
   "cell_type": "markdown",
   "id": "3db1eaf0",
   "metadata": {},
   "source": [
    "# All_Insurer_Portal   \"Old Policy No# Apostrophe \""
   ]
  },
  {
   "cell_type": "code",
   "execution_count": null,
   "id": "63850d0c",
   "metadata": {
    "ExecuteTime": {
     "end_time": "2022-09-28T04:11:23.162362Z",
     "start_time": "2022-09-28T04:11:22.881070Z"
    },
    "execution": {
     "iopub.execute_input": "2022-09-24T04:21:18.526160Z",
     "iopub.status.busy": "2022-09-24T04:21:18.525165Z",
     "iopub.status.idle": "2022-09-24T04:21:18.980887Z",
     "shell.execute_reply": "2022-09-24T04:21:18.979941Z",
     "shell.execute_reply.started": "2022-09-24T04:21:18.526160Z"
    },
    "scrolled": true
   },
   "outputs": [],
   "source": [
    "# step 01 - replace all the special char and alphabetical word and keep only number\n",
    "\n",
    "All_Insurer_Portal['Old Policy No.'] = All_Insurer_Portal['Old Policy No.'].str.replace(\"'\", \"\").fillna(All_Insurer_Portal['Old Policy No.'])\n",
    "All_Insurer_Portal"
   ]
  },
  {
   "cell_type": "code",
   "execution_count": null,
   "id": "31ba22a4",
   "metadata": {
    "ExecuteTime": {
     "end_time": "2022-09-28T04:11:23.256203Z",
     "start_time": "2022-09-28T04:11:23.164321Z"
    },
    "execution": {
     "iopub.execute_input": "2022-09-24T04:21:18.983878Z",
     "iopub.status.busy": "2022-09-24T04:21:18.983878Z",
     "iopub.status.idle": "2022-09-24T04:21:19.122487Z",
     "shell.execute_reply": "2022-09-24T04:21:19.121666Z",
     "shell.execute_reply.started": "2022-09-24T04:21:18.983878Z"
    }
   },
   "outputs": [],
   "source": [
    "# step 09 - add customer name\n",
    "\n",
    "\n",
    "All_Insurer_Portal.insert(0,\"Previous Policy No.\",\"'\" + All_Insurer_Portal['Old Policy No.'].astype(str))\n",
    "All_Insurer_Portal"
   ]
  },
  {
   "cell_type": "markdown",
   "id": "6d6e644f",
   "metadata": {},
   "source": [
    "# All_Insurer_Portal   \"NEW Policy No# Apostrophe\""
   ]
  },
  {
   "cell_type": "code",
   "execution_count": null,
   "id": "096efd1f",
   "metadata": {
    "ExecuteTime": {
     "end_time": "2022-09-28T04:11:23.588687Z",
     "start_time": "2022-09-28T04:11:23.258195Z"
    },
    "execution": {
     "iopub.execute_input": "2022-09-24T04:21:19.125508Z",
     "iopub.status.busy": "2022-09-24T04:21:19.125508Z",
     "iopub.status.idle": "2022-09-24T04:21:19.615182Z",
     "shell.execute_reply": "2022-09-24T04:21:19.614224Z",
     "shell.execute_reply.started": "2022-09-24T04:21:19.125508Z"
    }
   },
   "outputs": [],
   "source": [
    "# step 01 - replace all the special char and alphabetical word and keep only number\n",
    "\n",
    "All_Insurer_Portal['Policy No.'] = All_Insurer_Portal['Policy No.'].str.replace(\"'\", \"\").fillna(All_Insurer_Portal['Policy No.'])\n",
    "All_Insurer_Portal"
   ]
  },
  {
   "cell_type": "code",
   "execution_count": null,
   "id": "37ba68e1",
   "metadata": {
    "ExecuteTime": {
     "end_time": "2022-09-28T04:11:23.728019Z",
     "start_time": "2022-09-28T04:11:23.591877Z"
    },
    "execution": {
     "iopub.execute_input": "2022-09-24T04:21:19.619170Z",
     "iopub.status.busy": "2022-09-24T04:21:19.618173Z",
     "iopub.status.idle": "2022-09-24T04:21:19.756251Z",
     "shell.execute_reply": "2022-09-24T04:21:19.755257Z",
     "shell.execute_reply.started": "2022-09-24T04:21:19.619170Z"
    },
    "scrolled": true
   },
   "outputs": [],
   "source": [
    "# step 09 - add customer name\n",
    "\n",
    "\n",
    "All_Insurer_Portal.insert(1,\"NEW Policy No# Apostrophe\",\"'\" + All_Insurer_Portal['Policy No.'].astype(str))\n",
    "All_Insurer_Portal"
   ]
  },
  {
   "cell_type": "markdown",
   "id": "bd0bbd0d",
   "metadata": {},
   "source": [
    "## Move \"Customer name column\" at 1st position"
   ]
  },
  {
   "cell_type": "code",
   "execution_count": null,
   "id": "589d16ff",
   "metadata": {
    "ExecuteTime": {
     "end_time": "2022-09-28T04:11:23.742916Z",
     "start_time": "2022-09-28T04:11:23.729928Z"
    },
    "execution": {
     "iopub.execute_input": "2022-09-24T04:21:19.759244Z",
     "iopub.status.busy": "2022-09-24T04:21:19.758206Z",
     "iopub.status.idle": "2022-09-24T04:21:19.771460Z",
     "shell.execute_reply": "2022-09-24T04:21:19.770456Z",
     "shell.execute_reply.started": "2022-09-24T04:21:19.759244Z"
    }
   },
   "outputs": [],
   "source": [
    "Move_name = All_Insurer_Portal.pop('Customer Name')\n",
    "Move_name.head()"
   ]
  },
  {
   "cell_type": "code",
   "execution_count": null,
   "id": "edc4e6af",
   "metadata": {
    "ExecuteTime": {
     "end_time": "2022-09-28T04:11:23.804810Z",
     "start_time": "2022-09-28T04:11:23.744879Z"
    },
    "execution": {
     "iopub.execute_input": "2022-09-24T04:21:19.772456Z",
     "iopub.status.busy": "2022-09-24T04:21:19.772456Z",
     "iopub.status.idle": "2022-09-24T04:21:19.850279Z",
     "shell.execute_reply": "2022-09-24T04:21:19.849296Z",
     "shell.execute_reply.started": "2022-09-24T04:21:19.772456Z"
    }
   },
   "outputs": [],
   "source": [
    "All_Insurer_Portal.insert(0, 'Customer Name', Move_name)\n",
    "All_Insurer_Portal"
   ]
  },
  {
   "cell_type": "markdown",
   "id": "63821d2e",
   "metadata": {
    "ExecuteTime": {
     "end_time": "2022-02-16T10:38:09.493865Z",
     "start_time": "2022-02-16T10:38:09.453059Z"
    }
   },
   "source": [
    "## Move \"Register No. column\" at 2nd position"
   ]
  },
  {
   "cell_type": "code",
   "execution_count": null,
   "id": "0f2904db",
   "metadata": {
    "ExecuteTime": {
     "end_time": "2022-09-28T04:11:23.820231Z",
     "start_time": "2022-09-28T04:11:23.806750Z"
    },
    "execution": {
     "iopub.execute_input": "2022-09-24T04:21:19.852625Z",
     "iopub.status.busy": "2022-09-24T04:21:19.851294Z",
     "iopub.status.idle": "2022-09-24T04:21:19.881074Z",
     "shell.execute_reply": "2022-09-24T04:21:19.879213Z",
     "shell.execute_reply.started": "2022-09-24T04:21:19.852625Z"
    }
   },
   "outputs": [],
   "source": [
    "Move_Register = All_Insurer_Portal.pop('Registration_no.')\n",
    "Move_Register.head()"
   ]
  },
  {
   "cell_type": "code",
   "execution_count": null,
   "id": "57e97fec",
   "metadata": {
    "ExecuteTime": {
     "end_time": "2022-09-28T04:11:23.852117Z",
     "start_time": "2022-09-28T04:11:23.821196Z"
    },
    "execution": {
     "iopub.execute_input": "2022-09-24T04:21:19.883151Z",
     "iopub.status.busy": "2022-09-24T04:21:19.882151Z",
     "iopub.status.idle": "2022-09-24T04:21:19.958975Z",
     "shell.execute_reply": "2022-09-24T04:21:19.957989Z",
     "shell.execute_reply.started": "2022-09-24T04:21:19.883151Z"
    }
   },
   "outputs": [],
   "source": [
    "All_Insurer_Portal.insert(2, 'Registration_no.', Move_Register)\n",
    "All_Insurer_Portal"
   ]
  },
  {
   "cell_type": "markdown",
   "id": "997f34d9",
   "metadata": {},
   "source": [
    "## Move \"Product column\" at 2nd position"
   ]
  },
  {
   "cell_type": "code",
   "execution_count": null,
   "id": "b8015edb",
   "metadata": {
    "ExecuteTime": {
     "end_time": "2022-09-28T04:11:23.868097Z",
     "start_time": "2022-09-28T04:11:23.853108Z"
    },
    "execution": {
     "iopub.execute_input": "2022-09-24T04:21:19.961928Z",
     "iopub.status.busy": "2022-09-24T04:21:19.960971Z",
     "iopub.status.idle": "2022-09-24T04:21:19.990884Z",
     "shell.execute_reply": "2022-09-24T04:21:19.989558Z",
     "shell.execute_reply.started": "2022-09-24T04:21:19.961928Z"
    }
   },
   "outputs": [],
   "source": [
    "Move_product = All_Insurer_Portal.pop('Product')\n",
    "Move_product.head()"
   ]
  },
  {
   "cell_type": "code",
   "execution_count": null,
   "id": "46b8155a",
   "metadata": {
    "ExecuteTime": {
     "end_time": "2022-09-28T04:11:23.899983Z",
     "start_time": "2022-09-28T04:11:23.869067Z"
    },
    "execution": {
     "iopub.execute_input": "2022-09-24T04:21:19.993836Z",
     "iopub.status.busy": "2022-09-24T04:21:19.992881Z",
     "iopub.status.idle": "2022-09-24T04:21:20.069628Z",
     "shell.execute_reply": "2022-09-24T04:21:20.068815Z",
     "shell.execute_reply.started": "2022-09-24T04:21:19.993836Z"
    },
    "scrolled": true
   },
   "outputs": [],
   "source": [
    "All_Insurer_Portal.insert(0, 'Product category', Move_product)\n",
    "All_Insurer_Portal"
   ]
  },
  {
   "cell_type": "markdown",
   "id": "87b3a086",
   "metadata": {},
   "source": [
    "### NEW Policy No# Apostrophe"
   ]
  },
  {
   "cell_type": "code",
   "execution_count": null,
   "id": "f6eafec0",
   "metadata": {
    "ExecuteTime": {
     "end_time": "2022-09-28T04:11:23.915489Z",
     "start_time": "2022-09-28T04:11:23.901620Z"
    },
    "execution": {
     "iopub.execute_input": "2022-09-24T04:21:20.072618Z",
     "iopub.status.busy": "2022-09-24T04:21:20.071622Z",
     "iopub.status.idle": "2022-09-24T04:21:20.084586Z",
     "shell.execute_reply": "2022-09-24T04:21:20.083586Z",
     "shell.execute_reply.started": "2022-09-24T04:21:20.072618Z"
    }
   },
   "outputs": [],
   "source": [
    "Move_NEW_Policy_No_Apostrophe = All_Insurer_Portal.pop('NEW Policy No# Apostrophe')\n",
    "Move_NEW_Policy_No_Apostrophe.head()"
   ]
  },
  {
   "cell_type": "code",
   "execution_count": null,
   "id": "264ea3e0",
   "metadata": {
    "ExecuteTime": {
     "end_time": "2022-09-28T04:11:23.947429Z",
     "start_time": "2022-09-28T04:11:23.916516Z"
    },
    "execution": {
     "iopub.execute_input": "2022-09-24T04:21:20.087574Z",
     "iopub.status.busy": "2022-09-24T04:21:20.086577Z",
     "iopub.status.idle": "2022-09-24T04:21:20.179319Z",
     "shell.execute_reply": "2022-09-24T04:21:20.178401Z",
     "shell.execute_reply.started": "2022-09-24T04:21:20.087574Z"
    }
   },
   "outputs": [],
   "source": [
    "All_Insurer_Portal.insert(6, 'NEW Policy No# Apostrophe', Move_NEW_Policy_No_Apostrophe)\n",
    "All_Insurer_Portal"
   ]
  },
  {
   "cell_type": "markdown",
   "id": "aba40e34",
   "metadata": {},
   "source": [
    "### as it is column created "
   ]
  },
  {
   "cell_type": "code",
   "execution_count": null,
   "id": "fe8422c3",
   "metadata": {
    "ExecuteTime": {
     "end_time": "2022-09-28T04:11:23.979359Z",
     "start_time": "2022-09-28T04:11:23.948402Z"
    },
    "execution": {
     "iopub.execute_input": "2022-09-24T04:21:20.182309Z",
     "iopub.status.busy": "2022-09-24T04:21:20.181313Z",
     "iopub.status.idle": "2022-09-24T04:21:20.258095Z",
     "shell.execute_reply": "2022-09-24T04:21:20.257202Z",
     "shell.execute_reply.started": "2022-09-24T04:21:20.182309Z"
    }
   },
   "outputs": [],
   "source": [
    "All_Insurer_Portal.insert(0,'old policy no# as it is',All_Insurer_Portal['Previous Policy No.'])\n",
    "All_Insurer_Portal.insert(1,'Reg no# as it is',All_Insurer_Portal['Registration_no.'])\n",
    "All_Insurer_Portal"
   ]
  },
  {
   "cell_type": "code",
   "execution_count": null,
   "id": "73c2b0cd",
   "metadata": {},
   "outputs": [],
   "source": []
  },
  {
   "cell_type": "markdown",
   "id": "ff10ba86",
   "metadata": {},
   "source": [
    "## Remove special char"
   ]
  },
  {
   "cell_type": "code",
   "execution_count": null,
   "id": "46d22638",
   "metadata": {
    "ExecuteTime": {
     "end_time": "2022-09-28T04:11:25.369002Z",
     "start_time": "2022-09-28T04:11:23.981351Z"
    },
    "execution": {
     "iopub.execute_input": "2022-09-24T04:21:20.261087Z",
     "iopub.status.busy": "2022-09-24T04:21:20.260090Z",
     "iopub.status.idle": "2022-09-24T04:21:22.639297Z",
     "shell.execute_reply": "2022-09-24T04:21:22.637780Z",
     "shell.execute_reply.started": "2022-09-24T04:21:20.261087Z"
    }
   },
   "outputs": [],
   "source": [
    "All_Insurer_Portal['Previous Policy No.'].replace(regex=True, inplace=True, to_replace=r\"[^a-zA-Z0-9 ']\", value=r'')\n",
    "All_Insurer_Portal['Old Policy No.'].replace(regex=True, inplace=True, to_replace=r\"[^a-zA-Z0-9 ']\", value=r'')\n",
    "\n",
    "All_Insurer_Portal['Registration_no.'].replace(regex=True, inplace=True, to_replace=r\"[^a-zA-Z0-9]\", value=r'')\n",
    "\n",
    "All_Insurer_Portal"
   ]
  },
  {
   "cell_type": "code",
   "execution_count": null,
   "id": "c510f2e0",
   "metadata": {},
   "outputs": [],
   "source": []
  },
  {
   "cell_type": "code",
   "execution_count": null,
   "id": "9ef85333",
   "metadata": {
    "ExecuteTime": {
     "end_time": "2022-09-28T04:11:25.398896Z",
     "start_time": "2022-09-28T04:11:25.371098Z"
    },
    "execution": {
     "iopub.execute_input": "2022-09-24T04:21:22.641713Z",
     "iopub.status.busy": "2022-09-24T04:21:22.641713Z",
     "iopub.status.idle": "2022-09-24T04:21:22.686588Z",
     "shell.execute_reply": "2022-09-24T04:21:22.685257Z",
     "shell.execute_reply.started": "2022-09-24T04:21:22.641713Z"
    }
   },
   "outputs": [],
   "source": [
    "dict = {\n",
    "            \"Previous Policy No.\":\"PolicyNumber\",\n",
    "            \"Registration_no.\":\"Registration_no.__02\",\n",
    "            \"NEW Policy No# Apostrophe\":\"New_Policy No.\",\n",
    "            \"Net Premium\":\"New_Renewed_Premium\",\n",
    "            \"Booking/Issued Date\":\"New_Booking/Issued Date\",\n",
    "            \"Insurer\":\"New_Insurer\",\n",
    "        }\n",
    "\n",
    "All_Insurer_Portal.rename(columns=dict,inplace=True)\n",
    "All_Insurer_Portal"
   ]
  },
  {
   "cell_type": "code",
   "execution_count": null,
   "id": "b5165d53",
   "metadata": {},
   "outputs": [],
   "source": []
  },
  {
   "cell_type": "code",
   "execution_count": null,
   "id": "e9db2d6b",
   "metadata": {
    "ExecuteTime": {
     "end_time": "2022-09-28T04:11:25.462869Z",
     "start_time": "2022-09-28T04:11:25.400853Z"
    },
    "execution": {
     "iopub.execute_input": "2022-09-24T04:21:22.690161Z",
     "iopub.status.busy": "2022-09-24T04:21:22.688622Z",
     "iopub.status.idle": "2022-09-24T04:21:22.765957Z",
     "shell.execute_reply": "2022-09-24T04:21:22.765009Z",
     "shell.execute_reply.started": "2022-09-24T04:21:22.690161Z"
    }
   },
   "outputs": [],
   "source": [
    "All_Insurer_Portal['New_Booking/Issued Date'] = pd.to_datetime(All_Insurer_Portal['New_Booking/Issued Date'], errors='coerce')\n",
    "All_Insurer_Portal['New_Booking/Issued Date']"
   ]
  },
  {
   "cell_type": "code",
   "execution_count": null,
   "id": "8afe092e",
   "metadata": {
    "ExecuteTime": {
     "end_time": "2022-09-28T04:11:25.510745Z",
     "start_time": "2022-09-28T04:11:25.464876Z"
    },
    "execution": {
     "iopub.execute_input": "2022-09-24T04:21:22.768761Z",
     "iopub.status.busy": "2022-09-24T04:21:22.767949Z",
     "iopub.status.idle": "2022-09-24T04:21:22.844737Z",
     "shell.execute_reply": "2022-09-24T04:21:22.843876Z",
     "shell.execute_reply.started": "2022-09-24T04:21:22.768761Z"
    }
   },
   "outputs": [],
   "source": [
    "All_Insurer_Portal['New_Renewed_Premium'] = pd.to_numeric(All_Insurer_Portal['New_Renewed_Premium'], errors='coerce')\n",
    "All_Insurer_Portal"
   ]
  },
  {
   "cell_type": "code",
   "execution_count": null,
   "id": "cefd4672",
   "metadata": {
    "ExecuteTime": {
     "end_time": "2022-09-28T04:11:25.794450Z",
     "start_time": "2022-09-28T04:11:25.512705Z"
    },
    "execution": {
     "iopub.execute_input": "2022-09-24T04:21:22.848200Z",
     "iopub.status.busy": "2022-09-24T04:21:22.847725Z",
     "iopub.status.idle": "2022-09-24T04:21:23.109422Z",
     "shell.execute_reply": "2022-09-24T04:21:23.108467Z",
     "shell.execute_reply.started": "2022-09-24T04:21:22.848200Z"
    }
   },
   "outputs": [],
   "source": [
    "Greater_Than_0_MOTOR_Health = All_Insurer_Portal.query('New_Renewed_Premium > 0')\n",
    "Greater_Than_0_MOTOR_Health"
   ]
  },
  {
   "cell_type": "code",
   "execution_count": null,
   "id": "e50dea77",
   "metadata": {
    "ExecuteTime": {
     "end_time": "2022-09-28T04:11:25.998654Z",
     "start_time": "2022-09-28T04:11:25.796446Z"
    },
    "execution": {
     "iopub.execute_input": "2022-09-24T04:21:23.112414Z",
     "iopub.status.busy": "2022-09-24T04:21:23.111417Z",
     "iopub.status.idle": "2022-09-24T04:21:23.346755Z",
     "shell.execute_reply": "2022-09-24T04:21:23.345759Z",
     "shell.execute_reply.started": "2022-09-24T04:21:23.112414Z"
    }
   },
   "outputs": [],
   "source": [
    "final_M_H = Greater_Than_0_MOTOR_Health[Greater_Than_0_MOTOR_Health['New_Booking/Issued Date'].between('2022-07-01','2022-09-30' ,inclusive = True)].copy()\n",
    "final_M_H"
   ]
  },
  {
   "cell_type": "code",
   "execution_count": null,
   "id": "6ec9b6d9",
   "metadata": {},
   "outputs": [],
   "source": []
  },
  {
   "cell_type": "code",
   "execution_count": null,
   "id": "916c45cc",
   "metadata": {
    "ExecuteTime": {
     "end_time": "2022-09-28T04:11:26.767508Z",
     "start_time": "2022-09-28T04:11:25.999652Z"
    },
    "execution": {
     "iopub.execute_input": "2022-09-24T04:21:23.348751Z",
     "iopub.status.busy": "2022-09-24T04:21:23.348751Z",
     "iopub.status.idle": "2022-09-24T04:21:24.601316Z",
     "shell.execute_reply": "2022-09-24T04:21:24.600318Z",
     "shell.execute_reply.started": "2022-09-24T04:21:23.348751Z"
    }
   },
   "outputs": [],
   "source": [
    "final_M_H.info()"
   ]
  },
  {
   "cell_type": "code",
   "execution_count": null,
   "id": "048e7d90",
   "metadata": {
    "ExecuteTime": {
     "end_time": "2022-09-28T04:11:26.894173Z",
     "start_time": "2022-09-28T04:11:26.769621Z"
    },
    "execution": {
     "iopub.execute_input": "2022-09-24T04:21:24.604483Z",
     "iopub.status.busy": "2022-09-24T04:21:24.603310Z",
     "iopub.status.idle": "2022-09-24T04:21:24.742964Z",
     "shell.execute_reply": "2022-09-24T04:21:24.741975Z",
     "shell.execute_reply.started": "2022-09-24T04:21:24.604483Z"
    }
   },
   "outputs": [],
   "source": [
    "final_M_H.drop(['Old Policy No.','Policy No.'], axis=1, inplace=True)\n",
    "final_M_H"
   ]
  },
  {
   "cell_type": "code",
   "execution_count": null,
   "id": "b375bec7",
   "metadata": {
    "ExecuteTime": {
     "end_time": "2022-09-28T04:11:26.909130Z",
     "start_time": "2022-09-28T04:11:26.896137Z"
    },
    "execution": {
     "iopub.execute_input": "2022-09-24T04:21:24.745954Z",
     "iopub.status.busy": "2022-09-24T04:21:24.744958Z",
     "iopub.status.idle": "2022-09-24T04:21:24.758875Z",
     "shell.execute_reply": "2022-09-24T04:21:24.757928Z",
     "shell.execute_reply.started": "2022-09-24T04:21:24.745954Z"
    }
   },
   "outputs": [],
   "source": [
    "from datetime import datetime\n",
    "\n",
    "date = datetime.now().strftime(\"%m_%d\")"
   ]
  },
  {
   "cell_type": "code",
   "execution_count": null,
   "id": "98b558af",
   "metadata": {
    "ExecuteTime": {
     "end_time": "2022-09-28T04:11:31.803812Z",
     "start_time": "2022-09-28T04:11:26.910112Z"
    },
    "execution": {
     "iopub.execute_input": "2022-09-24T04:21:24.759873Z",
     "iopub.status.busy": "2022-09-24T04:21:24.759873Z",
     "iopub.status.idle": "2022-09-24T04:21:31.812001Z",
     "shell.execute_reply": "2022-09-24T04:21:31.810985Z",
     "shell.execute_reply.started": "2022-09-24T04:21:24.759873Z"
    },
    "scrolled": true
   },
   "outputs": [],
   "source": [
    "final_M_H.to_csv(f\"0_{date}_All_Insurer_MO_He_Portal_data.csv\",index=False)"
   ]
  },
  {
   "cell_type": "markdown",
   "id": "3447a35b",
   "metadata": {},
   "source": [
    "### duplicated"
   ]
  },
  {
   "cell_type": "code",
   "execution_count": null,
   "id": "d1e3c090",
   "metadata": {
    "ExecuteTime": {
     "end_time": "2022-09-28T04:11:31.819769Z",
     "start_time": "2022-09-28T04:11:31.805815Z"
    },
    "execution": {
     "iopub.execute_input": "2022-09-24T04:21:31.814991Z",
     "iopub.status.busy": "2022-09-24T04:21:31.814046Z",
     "iopub.status.idle": "2022-09-24T04:21:31.827980Z",
     "shell.execute_reply": "2022-09-24T04:21:31.826345Z",
     "shell.execute_reply.started": "2022-09-24T04:21:31.814991Z"
    },
    "tags": []
   },
   "outputs": [],
   "source": [
    "#All_Insurer_Portal.apply(lambda x: x.duplicated().sum()) # Duplicate"
   ]
  }
 ],
 "metadata": {
  "kernelspec": {
   "display_name": "Python 3 (ipykernel)",
   "language": "python",
   "name": "python3"
  },
  "language_info": {
   "codemirror_mode": {
    "name": "ipython",
    "version": 3
   },
   "file_extension": ".py",
   "mimetype": "text/x-python",
   "name": "python",
   "nbconvert_exporter": "python",
   "pygments_lexer": "ipython3",
   "version": "3.9.12"
  },
  "toc": {
   "base_numbering": 1,
   "nav_menu": {},
   "number_sections": true,
   "sideBar": true,
   "skip_h1_title": false,
   "title_cell": "Table of Contents",
   "title_sidebar": "Contents",
   "toc_cell": false,
   "toc_position": {},
   "toc_section_display": true,
   "toc_window_display": false
  },
  "varInspector": {
   "cols": {
    "lenName": 16,
    "lenType": 16,
    "lenVar": 40
   },
   "kernels_config": {
    "python": {
     "delete_cmd_postfix": "",
     "delete_cmd_prefix": "del ",
     "library": "var_list.py",
     "varRefreshCmd": "print(var_dic_list())"
    },
    "r": {
     "delete_cmd_postfix": ") ",
     "delete_cmd_prefix": "rm(",
     "library": "var_list.r",
     "varRefreshCmd": "cat(var_dic_list()) "
    }
   },
   "types_to_exclude": [
    "module",
    "function",
    "builtin_function_or_method",
    "instance",
    "_Feature"
   ],
   "window_display": false
  }
 },
 "nbformat": 4,
 "nbformat_minor": 5
}
